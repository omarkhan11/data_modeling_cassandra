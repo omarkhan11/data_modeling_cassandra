{
 "cells": [
  {
   "cell_type": "markdown",
   "metadata": {},
   "source": [
    "# Part I. ETL Pipeline for Pre-Processing the Files"
   ]
  },
  {
   "cell_type": "markdown",
   "metadata": {},
   "source": [
    "## PLEASE RUN THE FOLLOWING CODE FOR PRE-PROCESSING THE FILES"
   ]
  },
  {
   "cell_type": "markdown",
   "metadata": {},
   "source": [
    "#### Import Python packages "
   ]
  },
  {
   "cell_type": "code",
   "execution_count": 6,
   "metadata": {},
   "outputs": [],
   "source": [
    "# Import Python packages \n",
    "import pandas as pd\n",
    "import cassandra\n",
    "import re\n",
    "import os\n",
    "import glob\n",
    "import numpy as np\n",
    "import json\n",
    "import csv"
   ]
  },
  {
   "cell_type": "markdown",
   "metadata": {},
   "source": [
    "#### Creating list of filepaths to process original event csv data files"
   ]
  },
  {
   "cell_type": "code",
   "execution_count": 7,
   "metadata": {},
   "outputs": [
    {
     "name": "stdout",
     "output_type": "stream",
     "text": [
      "/workspace/home\n"
     ]
    }
   ],
   "source": [
    "# checking your current working directory\n",
    "print(os.getcwd())\n",
    "\n",
    "# Get your current folder and subfolder event data\n",
    "filepath = os.getcwd() + '/event_data'\n",
    "\n",
    "# Create a for loop to create a list of files and collect each filepath\n",
    "for root, dirs, files in os.walk(filepath):\n",
    "    \n",
    "# join the file path and roots with the subdirectories using glob\n",
    "    file_path_list = glob.glob(os.path.join(root,'*'))\n",
    "    #print(file_path_list)"
   ]
  },
  {
   "cell_type": "markdown",
   "metadata": {},
   "source": [
    "#### Processing the files to create the data file csv that will be used for Apache Casssandra tables"
   ]
  },
  {
   "cell_type": "code",
   "execution_count": 8,
   "metadata": {},
   "outputs": [],
   "source": [
    "# initiating an empty list of rows that will be generated from each file\n",
    "full_data_rows_list = [] \n",
    "    \n",
    "# for every filepath in the file path list \n",
    "for f in file_path_list:\n",
    "\n",
    "# reading csv file \n",
    "    with open(f, 'r', encoding = 'utf8', newline='') as csvfile: \n",
    "        # creating a csv reader object \n",
    "        csvreader = csv.reader(csvfile) \n",
    "        next(csvreader)\n",
    "        \n",
    " # extracting each data row one by one and append it        \n",
    "        for line in csvreader:\n",
    "            #print(line)\n",
    "            full_data_rows_list.append(line) \n",
    "            \n",
    "# uncomment the code below if you would like to get total number of rows \n",
    "#print(len(full_data_rows_list))\n",
    "# uncomment the code below if you would like to check to see what the list of event data rows will look like\n",
    "#print(full_data_rows_list)\n",
    "\n",
    "# creating a smaller event data csv file called event_datafile_full csv that will be used to insert data into the \\\n",
    "# Apache Cassandra tables\n",
    "csv.register_dialect('myDialect', quoting=csv.QUOTE_ALL, skipinitialspace=True)\n",
    "\n",
    "with open('event_datafile_new.csv', 'w', encoding = 'utf8', newline='') as f:\n",
    "    writer = csv.writer(f, dialect='myDialect')\n",
    "    writer.writerow(['artist','firstName','gender','itemInSession','lastName','length',\\\n",
    "                'level','location','sessionId','song','userId'])\n",
    "    for row in full_data_rows_list:\n",
    "        if (row[0] == ''):\n",
    "            continue\n",
    "        writer.writerow((row[0], row[2], row[3], row[4], row[5], row[6], row[7], row[8], row[12], row[13], row[16]))\n"
   ]
  },
  {
   "cell_type": "code",
   "execution_count": 9,
   "metadata": {},
   "outputs": [
    {
     "name": "stdout",
     "output_type": "stream",
     "text": [
      "6821\n"
     ]
    }
   ],
   "source": [
    "# check the number of rows in your csv file\n",
    "with open('event_datafile_new.csv', 'r', encoding = 'utf8') as f:\n",
    "    print(sum(1 for line in f))"
   ]
  },
  {
   "cell_type": "markdown",
   "metadata": {},
   "source": [
    "## Part II. Complete the Apache Cassandra coding portion of your project. \n",
    "\n",
    "## Now you are ready to work with the CSV file titled <font color=red>event_datafile_new.csv</font>, located within the Workspace directory.  The event_datafile_new.csv contains the following columns: \n",
    "- artist \n",
    "- firstName of user\n",
    "- gender of user\n",
    "- item number in session\n",
    "- last name of user\n",
    "- length of the song\n",
    "- level (paid or free song)\n",
    "- location of the user\n",
    "- sessionId\n",
    "- song title\n",
    "- userId\n",
    "\n",
    "The image below is a screenshot of what the denormalized data should appear like in the <font color=red>**event_datafile_new.csv**</font> after the code above is run:<br>\n",
    "\n",
    "<img src=\"images/image_event_datafile_new.jpg\">"
   ]
  },
  {
   "cell_type": "markdown",
   "metadata": {},
   "source": [
    "## Begin writing your Apache Cassandra code in the cells below"
   ]
  },
  {
   "cell_type": "markdown",
   "metadata": {},
   "source": [
    "#### Creating a Cluster"
   ]
  },
  {
   "cell_type": "code",
   "execution_count": 10,
   "metadata": {},
   "outputs": [],
   "source": [
    "# CREATING A CLUSTER\n",
    "from cassandra.cluster import Cluster\n",
    "cluster = Cluster()\n",
    "\n",
    "# CREATING THE SESSION\n",
    "session = cluster.connect()"
   ]
  },
  {
   "cell_type": "markdown",
   "metadata": {},
   "source": [
    "#### Create Keyspace"
   ]
  },
  {
   "cell_type": "code",
   "execution_count": 11,
   "metadata": {},
   "outputs": [
    {
     "data": {
      "text/plain": [
       "<cassandra.cluster.ResultSet at 0x7b37856a1710>"
      ]
     },
     "execution_count": 11,
     "metadata": {},
     "output_type": "execute_result"
    }
   ],
   "source": [
    "# SESSION EXECUTION\n",
    "session.execute(\"\"\"\n",
    "      CREATE KEYSPACE IF NOT EXISTS mykeyspace WITH replication = {'class': 'SimpleStrategy', 'replication_factor': 1};\n",
    "\"\"\")"
   ]
  },
  {
   "cell_type": "markdown",
   "metadata": {},
   "source": [
    "#### Set Keyspace"
   ]
  },
  {
   "cell_type": "code",
   "execution_count": 12,
   "metadata": {},
   "outputs": [],
   "source": [
    "# SETTING THE KEYSPACE\n",
    "session.set_keyspace(\"mykeyspace\")"
   ]
  },
  {
   "cell_type": "markdown",
   "metadata": {},
   "source": [
    "### Now we need to create tables to run the following queries. Remember, with Apache Cassandra you model the database tables on the queries you want to run."
   ]
  },
  {
   "cell_type": "markdown",
   "metadata": {},
   "source": [
    "## Create queries to ask the following three questions of the data\n",
    "\n",
    "### 1. Give me the artist, song title and song's length in the music app history that was heard during  sessionId = 338, and itemInSession  = 4\n",
    "\n",
    "\n",
    "### 2. Give me only the following: name of artist, song (sorted by itemInSession) and user (first and last name) for userid = 10, sessionid = 182\n",
    "    \n",
    "\n",
    "### 3. Give me every user name (first and last) in my music app history who listened to the song 'All Hands Against His Own'\n",
    "\n",
    "\n"
   ]
  },
  {
   "cell_type": "code",
   "execution_count": 95,
   "metadata": {},
   "outputs": [
    {
     "data": {
      "text/plain": [
       "<cassandra.cluster.ResultSet at 0x7b37518a3dd8>"
      ]
     },
     "execution_count": 95,
     "metadata": {},
     "output_type": "execute_result"
    }
   ],
   "source": [
    "# HERE WE ARE CREATING THE MUSIC_HISTORY_FINALVER \n",
    "# WE HAVE SESSION_ID & ITEM_IN_SESSION AS THE PRIMARY KEYS BECAUSE WE WANT TO FILTER OUT TO SESSION_ID & ITEM_IN_SESSION \n",
    "table1 = \"\"\"CREATE TABLE IF NOT EXISTS music_history_finalver1 (\n",
    "session_id int, item_in_session int, artist text, song_title text, song_length float, \n",
    "PRIMARY KEY(session_id, item_in_session))\"\"\"         \n",
    "\n",
    "# TABLE1 EXEUCTION\n",
    "session.execute(table1)"
   ]
  },
  {
   "cell_type": "code",
   "execution_count": 96,
   "metadata": {
    "scrolled": false
   },
   "outputs": [],
   "source": [
    "file = 'event_datafile_new.csv'\n",
    "\n",
    "# WE ARE LOOPING THROUGH THE CSV\n",
    "with open(file, encoding = 'utf8') as f:\n",
    "    csvreader = csv.reader(f)\n",
    "    next(csvreader) # skip header\n",
    "    for line in csvreader:\n",
    "        # WE ARE INSERTING THE DATA FROM THE CSV INTO THE MUSIC_HISTORY_FINALVER TABLE\n",
    "        query = \"INSERT INTO music_history_finalver1 (session_id, item_in_session, artist, song_title, song_length) VALUES (%s,%s,%s,%s,%s)\"\n",
    "        session.execute(query, (int(line[8]), int(line[3]), line[0], line[10], float(line[5])))"
   ]
  },
  {
   "cell_type": "markdown",
   "metadata": {},
   "source": [
    "#### Do a SELECT to verify that the data have been inserted into each table"
   ]
  },
  {
   "cell_type": "code",
   "execution_count": 97,
   "metadata": {
    "scrolled": true
   },
   "outputs": [
    {
     "name": "stdout",
     "output_type": "stream",
     "text": [
      "      artist song_title  song_length\n",
      "0  Faithless         50   495.307312\n"
     ]
    }
   ],
   "source": [
    "# THE QUERY WE WANNT TO EXECUTE \n",
    "verification = \"SELECT artist, song_title,song_length FROM music_history_finalver1 WHERE session_id = 338 and item_in_session = 4\" \n",
    "\n",
    "# CREATING LISTS TO CREATE A DATAFRAME FOR THE RESULTS LATER ON\n",
    "artist = []\n",
    "song_title = []\n",
    "song_length = [] \n",
    "\n",
    "# EXECUTING THE RESULTS AND APPENDING THE DATA INTO THE CORRECT LISTS ABOVE\n",
    "try:\n",
    "    results = session.execute(verification)\n",
    "    for row in results:\n",
    "        artist.append(row[0])\n",
    "        song_title.append(row[1])\n",
    "        song_length.append(row[2])\n",
    "except Exception as error:\n",
    "    print(error)\n",
    "\n",
    "# CREATING A DATAFRAME FOR THE RESULTS \n",
    "try: \n",
    "    df = pd.DataFrame({\n",
    "        \"artist\":artist,\n",
    "        \"song_title\":song_title,\n",
    "        \"song_length\": song_length\n",
    "    })\n",
    "    print(df)\n",
    "    #print(df(index=False)) -> WE CAN RUN THE RESULTS WITHOUT SEEING THE INDEX IF REQUIRED WHICH WILL CONVER THE DISPLAYED RESULTS INTO A STRING\n",
    "except Exception as error:\n",
    "    print(error)"
   ]
  },
  {
   "cell_type": "code",
   "execution_count": 91,
   "metadata": {},
   "outputs": [
    {
     "name": "stdout",
     "output_type": "stream",
     "text": [
      "      artist                                               song  \\\n",
      "0  Faithless                                 Keep On Keepin' On   \n",
      "1  Faithless                                        Greece 2000   \n",
      "2  Faithless                                          Kilometer   \n",
      "3  Faithless  Catch You Baby (Steve Pitron & Max Sanna Radio...   \n",
      "\n",
      "  user_first_name user_last_name  \n",
      "0          Sylvie           Cruz  \n",
      "1          Sylvie           Cruz  \n",
      "2          Sylvie           Cruz  \n",
      "3          Sylvie           Cruz  \n"
     ]
    }
   ],
   "source": [
    "# WE ARE CREATING TABLE 2 (USER_INFORMATION_FINALVER)\n",
    "# WE ARE USING USER_ID AS THE PARTITION KEY WITH SESSION_ID AND ITEM_IN_SESSION BEING THE CLUSTERING COLUMNS TO CREATE THE UNIQUE PRIMARY KEY\n",
    "\n",
    "table2 = \"\"\"CREATE TABLE IF NOT EXISTS user_information_finalver (user_id int, session_id int, item_in_session int, artist text, song text, user_first_name text, user_last_name text,\n",
    "PRIMARY KEY((user_id, session_id), item_in_session)\n",
    "\"\"\"      \n",
    "# TABLE2 EXECUTION\n",
    "session.execute(table2)\n",
    "\n",
    "file = 'event_datafile_new.csv'\n",
    "\n",
    "# LOOPING THROUGH THE CSV\n",
    "with open(file, encoding = 'utf8') as f:\n",
    "    csvreader = csv.reader(f)\n",
    "    next(csvreader) # skip header\n",
    "    for line in csvreader:\n",
    "        # WE ARE INSERTING THE DATA FROM THE CSV INTO THE USER_INFORMATION_FINALVER TABLE\n",
    "        query = \"INSERT INTO user_information_finalver (user_id, session_id, item_in_session, artist, song, user_first_name, user_last_name) VALUES (%s,%s,%s,%s,%s,%s,%s)\"\n",
    "        session.execute(query, (int(line[10]), int(line[8]), int(line[3]), line[0], line[9], line[1], line[4]))\n",
    "\n",
    "# QUERY WE WANT TO EXECUTE\n",
    "verification2 = \"SELECT artist, song, user_first_name, user_last_name FROM user_information_finalver WHERE user_id = 10 and session_id = 182\"\n",
    "\n",
    "# CREATING LISTS TO CREATE A DATAFRAME FOR THE RESULTS LATER ON\n",
    "artist = []\n",
    "song = []\n",
    "user_first_name = []\n",
    "user_last_name = []\n",
    "try:\n",
    "    # EXECUTING THE RESULTS AND APPENDING THE DATA INTO THE CORRECT LISTS ABOVE\n",
    "    results = session.execute(verification2)\n",
    "    for rows in results:\n",
    "        artist.append(row[0])\n",
    "        song.append(rows[1]) \n",
    "        user_first_name.append(rows[2])\n",
    "        user_last_name.append(rows[3])\n",
    "except Exception as error:\n",
    "    print(error)\n",
    "\n",
    "# CREATING A DATAFRAME FOR THE RESULTS\n",
    "try: \n",
    "    df = pd.DataFrame({\n",
    "    \"artist\":artist,\n",
    "    \"song\" : song, \n",
    "    \"user_first_name\":user_first_name,\n",
    "    \"user_last_name\": user_last_name\n",
    "    })\n",
    "    print(df)\n",
    "    #print(df(index=False)) -> WE CAN RUN THE RESULTS WITHOUT SEEING THE INDEX IF REQUIRED WHICH WILL CONVER THE DISPLAYED RESULTS INTO A STRING\n",
    "\n",
    "except Exception as error: \n",
    "    print(error)"
   ]
  },
  {
   "cell_type": "code",
   "execution_count": 88,
   "metadata": {},
   "outputs": [
    {
     "name": "stdout",
     "output_type": "stream",
     "text": [
      "  user_first_name user_last_name\n",
      "0      Jacqueline          Lynch\n",
      "1           Tegan         Levine\n",
      "2            Sara        Johnson\n"
     ]
    }
   ],
   "source": [
    "# CREATING THE LISTENING_HISTORY_FINALVER TABLE \n",
    "# THE PRIMARY KEYS ARE SONG AND USER_ID. SONG COMES FIRST BECAUSE WE WANT TO FILTER OUT TO SONGS AND USER ID IS THE CLUSTERING COLUMN TO ORDER THE DATA WITHIN EACH SONG PARTITION\n",
    "\n",
    "table3 = \"\"\"CREATE TABLE IF NOT EXISTS listening_history_finalver (song text, user_id int, user_first_name text, user_last_name text,\n",
    "PRIMARY KEY(song, user_id))\n",
    "\"\"\"      \n",
    "\n",
    "# TABLE3 EXECUTION\n",
    "session.execute(table3)\n",
    "\n",
    "file = 'event_datafile_new.csv'\n",
    "\n",
    "# LOOPING THROUGH THE CSV\n",
    "with open(file, encoding = 'utf8') as f:\n",
    "    csvreader = csv.reader(f)\n",
    "    next(csvreader) # skip header\n",
    "    for line in csvreader:\n",
    "        query = \"INSERT INTO listening_history_finalver (song, user_id, user_first_name, user_last_name) VALUES (%s,%s,%s,%s)\"\n",
    "        session.execute(query, (line[9], int(line[10]), line[1], line[4]))\n",
    "\n",
    "# QUERY WE WANT TO EXECUTE\n",
    "verification3 = \"SELECT user_first_name, user_last_name FROM listening_history_finalver WHERE song = 'All Hands Against His Own'\"\n",
    "\n",
    "# CREATING LISTS TO CREATE A DATAFRAME FOR THE RESULTS LATER ON\n",
    "user_first_name = []\n",
    "user_last_name = []\n",
    "\n",
    "try:\n",
    "    # EXECUTING THE RESULTS AND APPENDING THE DATA INTO THE CORRECT LISTS ABOVE\n",
    "    results = session.execute(verification3)\n",
    "    for rows in results:\n",
    "        user_first_name.append(rows[0])\n",
    "        user_last_name.append(rows[1])\n",
    "except Exception as error:\n",
    "    print(error)\n",
    "    \n",
    "# CREATING A DATAFRAME FOR THE RESULTS \n",
    "try:\n",
    "    df = pd.DataFrame({\n",
    "        \"user_first_name\":user_first_name,\n",
    "        \"user_last_name\":user_last_name\n",
    "    })\n",
    "    print(df)\n",
    "    #print(df(index=False)) -> WE CAN RUN THE RESULTS WITHOUT SEEING THE INDEX IF REQUIRED WHICH WILL CONVER THE DISPLAYED RESULTS INTO A STRING\n",
    "\n",
    "except Exception as error:\n",
    "    print(error)"
   ]
  },
  {
   "cell_type": "markdown",
   "metadata": {},
   "source": [
    "### Drop the tables before closing out the sessions"
   ]
  },
  {
   "cell_type": "code",
   "execution_count": 98,
   "metadata": {},
   "outputs": [
    {
     "data": {
      "text/plain": [
       "<cassandra.cluster.ResultSet at 0x7b3751888828>"
      ]
     },
     "execution_count": 98,
     "metadata": {},
     "output_type": "execute_result"
    }
   ],
   "source": [
    "# DROPPING ALL THE TABLES\n",
    "session.execute(\"DROP TABLE music_history_finalver1;\")\n",
    "session.execute(\"DROP TABLE user_information_finalver;\")\n",
    "session.execute(\"DROP TABLE listening_history_finalver;\")"
   ]
  },
  {
   "cell_type": "markdown",
   "metadata": {},
   "source": [
    "### Close the session and cluster connection¶"
   ]
  },
  {
   "cell_type": "code",
   "execution_count": 99,
   "metadata": {},
   "outputs": [],
   "source": [
    "# CLOSING THE SESSION & CLUSTER\n",
    "session.shutdown()\n",
    "cluster.shutdown()"
   ]
  }
 ],
 "metadata": {
  "kernelspec": {
   "display_name": "Python 3",
   "language": "python",
   "name": "python3"
  },
  "language_info": {
   "codemirror_mode": {
    "name": "ipython",
    "version": 3
   },
   "file_extension": ".py",
   "mimetype": "text/x-python",
   "name": "python",
   "nbconvert_exporter": "python",
   "pygments_lexer": "ipython3",
   "version": "3.6.3"
  }
 },
 "nbformat": 4,
 "nbformat_minor": 2
}
